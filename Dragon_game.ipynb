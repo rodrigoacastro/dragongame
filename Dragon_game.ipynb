{
 "cells": [
  {
   "cell_type": "code",
   "execution_count": 1,
   "metadata": {
    "collapsed": false
   },
   "outputs": [
    {
     "data": {
      "text/plain": [
       "'\\nRules:\\n\\nThe dragon begins with 3 heads and 3 tails.\\n\\n1) If you cut 1 head, one grows (back).\\n2) If you cut 2 heads, no head or tail grows back.\\n3) If you cut 1 tail, 2 tails grow back.\\n4) If you cut 2 tails, 1 head grows back.\\n\\n5) If only 1 head remains, the player loses and is devoured by the dragon.\\n\\n'"
      ]
     },
     "execution_count": 1,
     "metadata": {},
     "output_type": "execute_result"
    }
   ],
   "source": [
    "# Jogo de matar o dragão\n",
    "\n",
    "# Tutorial de orientacao a objetos: \n",
    "# https://docs.python.org/3/tutorial/classes.html\n",
    "\n",
    "\"\"\"\n",
    "Regras:\n",
    "\n",
    "O dragão inicia com 3 cabeças e 3 caudas.\n",
    "\n",
    "1) Se cortar 1 cabeca, nasce 1 (outra).\n",
    "2) Se cortar 2 cabecas, nao nasce nem cabeca nem cauda.\n",
    "3) Se cortar 1 cauda, nascem 2 caudas no lugar.\n",
    "4) Se cortar duas caudas, nasce 1 cabeca.\n",
    "\n",
    "5) Se sobrar apenas a cabeca, o jogador perde.\n",
    "\n",
    "\"\"\"\n",
    "\n",
    "\"\"\"\n",
    "Rules:\n",
    "\n",
    "The dragon begins with 3 heads and 3 tails.\n",
    "\n",
    "1) If you cut 1 head, one grows (back).\n",
    "2) If you cut 2 heads, no head or tail grows back.\n",
    "3) If you cut 1 tail, 2 tails grow back.\n",
    "4) If you cut 2 tails, 1 head grows back.\n",
    "\n",
    "5) If only 1 head remains, the player loses and is devoured by the dragon.\n",
    "\n",
    "\"\"\""
   ]
  },
  {
   "cell_type": "code",
   "execution_count": 2,
   "metadata": {
    "collapsed": false
   },
   "outputs": [],
   "source": [
    "# Jogo de matar o dragão\n",
    "\n",
    "# Tutorial de orientacao a objetos: \n",
    "# https://docs.python.org/3/tutorial/classes.html\n",
    "\n",
    "def show_rules(): \n",
    "    file = open(\"Rules.txt\",\"r\")\n",
    "    for item in file:\n",
    "        print(item)\n",
    "    \n",
    "def mostrar_regras(): \n",
    "    file = open(\"Regras.txt\",\"r\")\n",
    "    for item in file:\n",
    "        print(item)\n",
    "    \n",
    "#show_rules()\n",
    "#mostrar_regras()"
   ]
  },
  {
   "cell_type": "code",
   "execution_count": 3,
   "metadata": {
    "collapsed": false
   },
   "outputs": [],
   "source": [
    "# Creates class dragon (3 heads and 3 tails), with methods cut_head and cut_tail        "
   ]
  },
  {
   "cell_type": "code",
   "execution_count": 19,
   "metadata": {
    "collapsed": false
   },
   "outputs": [],
   "source": [
    "class Dragon:\n",
    "    \n",
    "    def __init__(self, heads, tails):\n",
    "        self.heads = heads\n",
    "        self.tails = tails\n",
    "\n",
    "    def cut_head (self):      \n",
    "    #def cut_head (self,heads):\n",
    "        self.heads -= 1\n",
    "        #return(heads)\n",
    "\n",
    "    def cut_tail (self): \n",
    "    #def cut_tail (self,tails):\n",
    "        self.tails -= 1\n",
    "        #return(tails)\n",
    "   \n",
    "    def grow_head (self): \n",
    "    #def grow_head (self,heads):\n",
    "        self.heads += 1\n",
    "        #return(heads)\n",
    "\n",
    "    def grow_tail (self):\n",
    "    #def grow_tail (self,tails):\n",
    "        self.tails += 1\n",
    "        #return(tails)\n",
    "    \n",
    "    def cut1head (self):\n",
    "        # nothing happens, the head regrows\n",
    "        #self.heads = heads\n",
    "        #self.tails = tails\n",
    "        self.cut_head()\n",
    "        self.grow_head()\n",
    "        print(\"1 head was cut, but another grew in its place\")\n",
    "        \n",
    "    def cut2heads (self):\n",
    "        # nothing bad happens, no head or tail regrows\n",
    "        for i in range(2):\n",
    "            self.cut_head()\n",
    "        print(\"2 heads were cut, and nothing bad happened. What a relief!\")\n",
    "            \n",
    "    def cut1tail (self):\n",
    "        self.cut_tail()\n",
    "        # 2 tails grow back\n",
    "        for i in range(2):\n",
    "            self.grow_tail()\n",
    "        print(\"1 tail was cut, but 2 tails grew in its place\")\n",
    "    \n",
    "    def cut2tails (self):\n",
    "        for i in range(2):\n",
    "            self.cut_tail()\n",
    "            # 1 extra head grows\n",
    "        self.grow_head()\n",
    "        print(\"2 tails were cut, but it caused an extra head to grow as well\")"
   ]
  },
  {
   "cell_type": "code",
   "execution_count": 20,
   "metadata": {
    "collapsed": true
   },
   "outputs": [],
   "source": [
    "# check data on the dragon (number of heads and tails)\n",
    "\n",
    "def check_dragon(dragon):\n",
    "        print(\"\\nThe dragon has %i heads.\" %dragon.heads)\n",
    "        print(\"The dragon has %i tails.\\n\" %dragon.tails)"
   ]
  },
  {
   "cell_type": "code",
   "execution_count": 21,
   "metadata": {
    "collapsed": false
   },
   "outputs": [],
   "source": [
    "# check if number of heads is 1 (if so, it is game over)\n",
    "\n",
    "def check_game_over(dragon):\n",
    "    if dragon.heads is 1:\n",
    "        print(\"Too bad. You never the last head of the dragon devouring you after burning you whole. Try again!\")\n",
    "    else:\n",
    "        print(\"Lucky, you are STILL alive, but not for long...\")"
   ]
  },
  {
   "cell_type": "code",
   "execution_count": null,
   "metadata": {
    "collapsed": true
   },
   "outputs": [],
   "source": [
    "# creating instance"
   ]
  },
  {
   "cell_type": "code",
   "execution_count": 38,
   "metadata": {
    "collapsed": false
   },
   "outputs": [
    {
     "name": "stdout",
     "output_type": "stream",
     "text": [
      "Welcome to Dragongame\n",
      "\n",
      "The dragon has 3 heads.\n",
      "The dragon has 3 tails.\n",
      "\n",
      "Your objective is to kill the evil dragon, before he kills you and your whole village, Riverville\n",
      "\n",
      "\n",
      "Rules:\n",
      "\n",
      "\n",
      "\n",
      "The dragon begins with 3 heads and 3 tails.\n",
      "\n",
      "\n",
      "\n",
      "1) If you cut 1 head, one grows (back).\n",
      "\n",
      "2) If you cut 2 heads, no head or tail grows back.\n",
      "\n",
      "3) If you cut 1 tail, 2 tails grow back.\n",
      "\n",
      "4) If you cut 2 tails, 1 head grows back.\n",
      "\n",
      "5) If only 1 head remains, the player loses and is devoured by the dragon.\n",
      "\n",
      "To (try to) kill the evil dragon you can: \n",
      "1) cut 1 head; \n",
      "2) cut 2 heads; \n",
      "3) cut 1 tail; \n",
      "4) cut 2 tails.\n",
      "\n",
      "What will you do?\n"
     ]
    }
   ],
   "source": [
    "drag = Dragon(heads=3,tails=3)\n",
    "\n",
    "print(\"Welcome to Dragongame\")\n",
    "check_dragon(drag)\n",
    "print(\"Your objective is to kill the evil dragon, before he kills you and your whole village, Riverville\")\n",
    "print(\"\\n\")\n",
    "\n",
    "show_rules()\n",
    "\n",
    "print(\"To (try to) kill the evil dragon you can: \\n1) cut 1 head; \\n2) cut 2 heads; \\n3) cut 1 tail; \\n4) cut 2 tails.\")\n",
    "print(\"\\nWhat will you do?\")"
   ]
  },
  {
   "cell_type": "code",
   "execution_count": 25,
   "metadata": {
    "collapsed": false
   },
   "outputs": [
    {
     "data": {
      "text/plain": [
       "'\\ncheck_dragon(drag)\\ndrag.cut1head()\\n\\ncheck_dragon(drag)\\ndrag.cut2heads()\\n\\ncheck_dragon(drag)\\n'"
      ]
     },
     "execution_count": 25,
     "metadata": {},
     "output_type": "execute_result"
    }
   ],
   "source": [
    "# testing cutting heads\n",
    "\n",
    "#drag.cut_head()\n",
    "\n",
    "#check_dragon(drag)\n",
    "#drag.cut1head()\n",
    "\n",
    "#check_dragon(drag)\n",
    "#drag.cut2heads()\n",
    "\n",
    "#check_dragon(drag)\n"
   ]
  },
  {
   "cell_type": "code",
   "execution_count": 27,
   "metadata": {
    "collapsed": false
   },
   "outputs": [],
   "source": [
    "# test cutting tails\n",
    "\n",
    "#check_dragon(drag)\n",
    "\n",
    "#drag.cut1tail()\n",
    "\n",
    "#check_dragon(drag)\n",
    "\n",
    "#drag.cut2tails()\n",
    "\n",
    "#check_dragon(drag)"
   ]
  },
  {
   "cell_type": "code",
   "execution_count": 24,
   "metadata": {
    "collapsed": false
   },
   "outputs": [
    {
     "name": "stdout",
     "output_type": "stream",
     "text": [
      "Lucky, you are STILL alive, but not for long...\n"
     ]
    }
   ],
   "source": [
    "# check game over\n",
    "#check_game_over(drag)"
   ]
  },
  {
   "cell_type": "code",
   "execution_count": 28,
   "metadata": {
    "collapsed": true
   },
   "outputs": [],
   "source": [
    "# Game creation"
   ]
  },
  {
   "cell_type": "code",
   "execution_count": 39,
   "metadata": {
    "collapsed": false
   },
   "outputs": [
    {
     "name": "stdout",
     "output_type": "stream",
     "text": [
      "To (try to) kill the evil dragon you can: \n",
      "1) cut 1 head; \n",
      "2) cut 2 heads; \n",
      "3) cut 1 tail; \n",
      "4) cut 2 tails.\n",
      "\n",
      "What will you do?\n"
     ]
    }
   ],
   "source": [
    "# Message to the player\n",
    "\n",
    "print(\"To (try to) kill the evil dragon you can: \\n1) cut 1 head; \\n2) cut 2 heads; \\n3) cut 1 tail; \\n4) cut 2 tails.\")\n",
    "print(\"\\nWhat will you do?\")"
   ]
  },
  {
   "cell_type": "code",
   "execution_count": null,
   "metadata": {
    "collapsed": true
   },
   "outputs": [],
   "source": []
  }
 ],
 "metadata": {
  "anaconda-cloud": {},
  "kernelspec": {
   "display_name": "Python [conda root]",
   "language": "python",
   "name": "conda-root-py"
  },
  "language_info": {
   "codemirror_mode": {
    "name": "ipython",
    "version": 3
   },
   "file_extension": ".py",
   "mimetype": "text/x-python",
   "name": "python",
   "nbconvert_exporter": "python",
   "pygments_lexer": "ipython3",
   "version": "3.5.2"
  }
 },
 "nbformat": 4,
 "nbformat_minor": 1
}
